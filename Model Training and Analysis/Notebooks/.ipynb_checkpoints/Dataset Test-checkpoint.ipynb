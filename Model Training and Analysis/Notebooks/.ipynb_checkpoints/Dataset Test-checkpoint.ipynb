{
 "cells": [
  {
   "cell_type": "code",
   "execution_count": 1,
   "id": "df5cff95-39e3-4c69-9cfe-01b3cf75c16d",
   "metadata": {
    "tags": []
   },
   "outputs": [],
   "source": [
    "import numpy as np\n",
    "import pandas as pd\n",
    "from sklearn.ensemble import RandomForestClassifier\n",
    "from sklearn.metrics import accuracy_score, confusion_matrix, precision_score, recall_score, ConfusionMatrixDisplay\n",
    "from sklearn.model_selection import train_test_split\n",
    "from sklearn.preprocessing import RobustScaler\n",
    "import pickle"
   ]
  },
  {
   "cell_type": "markdown",
   "id": "c4d34278-c767-4b1f-95ea-cfe538f795c9",
   "metadata": {
    "tags": []
   },
   "source": [
    "## MCAD Dataset Features\n",
    "\n",
    "The MCAD dataset contains network flow data with the following features:\n",
    "\n",
    "**IP Address Information:**\n",
    "\n",
    "* `src`: Source IP address\n",
    "* `dst`: Destination IP address\n",
    "\n",
    "**Flow Information:**\n",
    "\n",
    "* `table_id`: ID of the table where the flow is stored\n",
    "* `ip_bytes`: Number of bytes in the flow on the IP address level\n",
    "* `ip_packet`: Number of packets in the flow on the IP address level\n",
    "* `ip_duration`: Duration (in seconds) the flow has been alive on the IP address level\n",
    "\n",
    "**Port Information:**\n",
    "\n",
    "* `in_port`: Receiver port number\n",
    "* `dl dst`: MAC address of the receiver host\n",
    "* `port_bytes`: Number of bytes in the flow on the port level\n",
    "* `port_packet`: Number of packets in the flow on the port level (may be a duplicate of `ip_packet`)\n",
    "* `port_flow_count`: Number of flows on the port level\n",
    "\n",
    "**Table Information:**\n",
    "\n",
    "* `table_active_count`: Number of active entries in the table\n",
    "* `table_lookup_count`: Number of packets looked up in the table\n",
    "* `table_matched_count`: Number of packets that matched an entry in the table\n",
    "\n",
    "**Packet Transfer Information:**\n",
    "\n",
    "* `port_rx_packets`: Number of received packets on the port level\n",
    "* `port_tx_packets`: Number of transmitted packets on the port level\n",
    "* `port_rx_bytes`: Number of received bytes on the port level\n",
    "* `port_tx_bytes`: Number of transmitted bytes on the port level\n",
    "\n",
    "**Packet Drop and Error Information:**\n",
    "\n",
    "* `port_rx_dropped`: Number of packets dropped by the receiver on the port level\n",
    "* `port_tx_dropped`: Number of packets dropped by the transmitter on the port level\n",
    "* `port_rx_errors`: Number of received errors\n",
    "* `port_tx_errors`: Number of transmitted errors\n",
    "\n",
    "**Frame Error Information:**\n",
    "\n",
    "* `port_rx_frame_err`: Number of frame alignment errors\n",
    "* `port_rx_over_err`: Number of received packets with overrun\n",
    "* `port_rx_crc_err`: Number of CRC errors\n",
    "\n",
    "**Collision Information:**\n",
    "\n",
    "* `port_collisions`: Number of collisions"
   ]
  },
  {
   "cell_type": "markdown",
   "id": "47bde06f-8e97-48b1-901e-e696e6285007",
   "metadata": {
    "tags": []
   },
   "source": [
    "### Data Preprocessing"
   ]
  },
  {
   "cell_type": "code",
   "execution_count": 2,
   "id": "6f822da5-37ad-45c5-8b43-21870b82bdc0",
   "metadata": {
    "tags": []
   },
   "outputs": [],
   "source": [
    "DATASET_PATH = \"../../Dataset/Collected Dataset/\"\n",
    "\n",
    "# flow data\n",
    "flow_files = {\n",
    "    \"attack\": [\n",
    "        \"icmp_ddos_flood.csv\",\n",
    "        \"land_attack.csv\",\n",
    "        \"malformed_packets.csv\",\n",
    "        \"nestea_attack.csv\",\n",
    "        \"nmap_probe_attack.csv\",\n",
    "        \"ping_of_death_attack.csv\",\n",
    "        \"tcp_ddos_flood.csv\",\n",
    "        \"udp_ddos_flood.csv\"\n",
    "    ],\n",
    "    \"normal\": [\n",
    "        \"normal_iperf.csv\",\n",
    "        \"normal_w3m.csv\"\n",
    "    ]\n",
    "}"
   ]
  },
  {
   "cell_type": "code",
   "execution_count": 3,
   "id": "248f7880-802c-4790-ad22-f19b0f663298",
   "metadata": {
    "tags": []
   },
   "outputs": [],
   "source": [
    "dfs = []\n",
    "\n",
    "for attack_type, files in flow_files.items():\n",
    "    for file in files:\n",
    "        try:\n",
    "            data = pd.read_csv(DATASET_PATH + file)\n",
    "            data[\"type\"] = attack_type\n",
    "            dfs.append(data)\n",
    "        except FileNotFoundError:\n",
    "            print(f\"Error: File '{file}' not found. Skipping...\")"
   ]
  },
  {
   "cell_type": "code",
   "execution_count": 4,
   "id": "c80d8368-9991-4569-afbc-f8340f366522",
   "metadata": {
    "tags": []
   },
   "outputs": [
    {
     "name": "stdout",
     "output_type": "stream",
     "text": [
      "Successfully combined data into a single DataFrame!\n"
     ]
    }
   ],
   "source": [
    "# Concatenate all DataFrames\n",
    "combined_data = pd.concat(dfs, ignore_index=True)\n",
    "print(\"Successfully combined data into a single DataFrame!\")"
   ]
  },
  {
   "cell_type": "code",
   "execution_count": 5,
   "id": "de6c572c-4be3-44fc-b937-7697c8525de5",
   "metadata": {
    "tags": []
   },
   "outputs": [
    {
     "data": {
      "text/html": [
       "<div>\n",
       "<style scoped>\n",
       "    .dataframe tbody tr th:only-of-type {\n",
       "        vertical-align: middle;\n",
       "    }\n",
       "\n",
       "    .dataframe tbody tr th {\n",
       "        vertical-align: top;\n",
       "    }\n",
       "\n",
       "    .dataframe thead th {\n",
       "        text-align: right;\n",
       "    }\n",
       "</style>\n",
       "<table border=\"1\" class=\"dataframe\">\n",
       "  <thead>\n",
       "    <tr style=\"text-align: right;\">\n",
       "      <th></th>\n",
       "      <th>src</th>\n",
       "      <th>dst</th>\n",
       "      <th>table_id</th>\n",
       "      <th>ip_bytes</th>\n",
       "      <th>ip_packet</th>\n",
       "      <th>ip_duration</th>\n",
       "      <th>in_port</th>\n",
       "      <th>port_bytes</th>\n",
       "      <th>port_packet</th>\n",
       "      <th>port_flow_count</th>\n",
       "      <th>...</th>\n",
       "      <th>port_rx_dropped</th>\n",
       "      <th>port_tx_dropped</th>\n",
       "      <th>port_rx_errors</th>\n",
       "      <th>port_tx_errors</th>\n",
       "      <th>port_rx_frame_err</th>\n",
       "      <th>port_rx_over_err</th>\n",
       "      <th>port_rx_crc_err</th>\n",
       "      <th>port_collisions</th>\n",
       "      <th>port_duration_sec</th>\n",
       "      <th>type</th>\n",
       "    </tr>\n",
       "  </thead>\n",
       "  <tbody>\n",
       "    <tr>\n",
       "      <th>0</th>\n",
       "      <td>NaN</td>\n",
       "      <td>NaN</td>\n",
       "      <td>0</td>\n",
       "      <td>18033839</td>\n",
       "      <td>5363</td>\n",
       "      <td>535</td>\n",
       "      <td>4</td>\n",
       "      <td>57922829</td>\n",
       "      <td>62901</td>\n",
       "      <td>7</td>\n",
       "      <td>...</td>\n",
       "      <td>0</td>\n",
       "      <td>0</td>\n",
       "      <td>0</td>\n",
       "      <td>0</td>\n",
       "      <td>0</td>\n",
       "      <td>0</td>\n",
       "      <td>0</td>\n",
       "      <td>0</td>\n",
       "      <td>577</td>\n",
       "      <td>normal</td>\n",
       "    </tr>\n",
       "    <tr>\n",
       "      <th>1</th>\n",
       "      <td>NaN</td>\n",
       "      <td>NaN</td>\n",
       "      <td>0</td>\n",
       "      <td>3748168</td>\n",
       "      <td>2564</td>\n",
       "      <td>62</td>\n",
       "      <td>1</td>\n",
       "      <td>16075194</td>\n",
       "      <td>11220</td>\n",
       "      <td>7</td>\n",
       "      <td>...</td>\n",
       "      <td>0</td>\n",
       "      <td>0</td>\n",
       "      <td>0</td>\n",
       "      <td>0</td>\n",
       "      <td>0</td>\n",
       "      <td>0</td>\n",
       "      <td>0</td>\n",
       "      <td>0</td>\n",
       "      <td>99</td>\n",
       "      <td>attack</td>\n",
       "    </tr>\n",
       "    <tr>\n",
       "      <th>2</th>\n",
       "      <td>NaN</td>\n",
       "      <td>NaN</td>\n",
       "      <td>0</td>\n",
       "      <td>49401858</td>\n",
       "      <td>33789</td>\n",
       "      <td>356</td>\n",
       "      <td>3</td>\n",
       "      <td>198171552</td>\n",
       "      <td>135643</td>\n",
       "      <td>7</td>\n",
       "      <td>...</td>\n",
       "      <td>0</td>\n",
       "      <td>0</td>\n",
       "      <td>0</td>\n",
       "      <td>0</td>\n",
       "      <td>0</td>\n",
       "      <td>0</td>\n",
       "      <td>0</td>\n",
       "      <td>0</td>\n",
       "      <td>391</td>\n",
       "      <td>attack</td>\n",
       "    </tr>\n",
       "    <tr>\n",
       "      <th>3</th>\n",
       "      <td>NaN</td>\n",
       "      <td>NaN</td>\n",
       "      <td>0</td>\n",
       "      <td>10332</td>\n",
       "      <td>246</td>\n",
       "      <td>155</td>\n",
       "      <td>2</td>\n",
       "      <td>99278</td>\n",
       "      <td>2089</td>\n",
       "      <td>7</td>\n",
       "      <td>...</td>\n",
       "      <td>0</td>\n",
       "      <td>0</td>\n",
       "      <td>0</td>\n",
       "      <td>0</td>\n",
       "      <td>0</td>\n",
       "      <td>0</td>\n",
       "      <td>0</td>\n",
       "      <td>0</td>\n",
       "      <td>174</td>\n",
       "      <td>attack</td>\n",
       "    </tr>\n",
       "    <tr>\n",
       "      <th>4</th>\n",
       "      <td>NaN</td>\n",
       "      <td>NaN</td>\n",
       "      <td>0</td>\n",
       "      <td>572009</td>\n",
       "      <td>6801</td>\n",
       "      <td>623</td>\n",
       "      <td>1</td>\n",
       "      <td>26273162</td>\n",
       "      <td>15503</td>\n",
       "      <td>7</td>\n",
       "      <td>...</td>\n",
       "      <td>0</td>\n",
       "      <td>0</td>\n",
       "      <td>0</td>\n",
       "      <td>0</td>\n",
       "      <td>0</td>\n",
       "      <td>0</td>\n",
       "      <td>0</td>\n",
       "      <td>0</td>\n",
       "      <td>771</td>\n",
       "      <td>normal</td>\n",
       "    </tr>\n",
       "  </tbody>\n",
       "</table>\n",
       "<p>5 rows × 27 columns</p>\n",
       "</div>"
      ],
      "text/plain": [
       "   src  dst  table_id  ip_bytes  ip_packet  ip_duration in_port  port_bytes  \\\n",
       "0  NaN  NaN         0  18033839       5363          535       4    57922829   \n",
       "1  NaN  NaN         0   3748168       2564           62       1    16075194   \n",
       "2  NaN  NaN         0  49401858      33789          356       3   198171552   \n",
       "3  NaN  NaN         0     10332        246          155       2       99278   \n",
       "4  NaN  NaN         0    572009       6801          623       1    26273162   \n",
       "\n",
       "   port_packet  port_flow_count  ...  port_rx_dropped  port_tx_dropped  \\\n",
       "0        62901                7  ...                0                0   \n",
       "1        11220                7  ...                0                0   \n",
       "2       135643                7  ...                0                0   \n",
       "3         2089                7  ...                0                0   \n",
       "4        15503                7  ...                0                0   \n",
       "\n",
       "   port_rx_errors  port_tx_errors  port_rx_frame_err  port_rx_over_err  \\\n",
       "0               0               0                  0                 0   \n",
       "1               0               0                  0                 0   \n",
       "2               0               0                  0                 0   \n",
       "3               0               0                  0                 0   \n",
       "4               0               0                  0                 0   \n",
       "\n",
       "   port_rx_crc_err  port_collisions  port_duration_sec    type  \n",
       "0                0                0                577  normal  \n",
       "1                0                0                 99  attack  \n",
       "2                0                0                391  attack  \n",
       "3                0                0                174  attack  \n",
       "4                0                0                771  normal  \n",
       "\n",
       "[5 rows x 27 columns]"
      ]
     },
     "execution_count": 5,
     "metadata": {},
     "output_type": "execute_result"
    }
   ],
   "source": [
    "# Randomize data, remove previous indices\n",
    "combined = combined_data.sample(frac=1).reset_index().drop('index', axis = 1)\n",
    "combined.head()"
   ]
  },
  {
   "cell_type": "code",
   "execution_count": 6,
   "id": "48507bba-dd9d-4bb4-80e0-3bdbf0e58d04",
   "metadata": {
    "tags": []
   },
   "outputs": [],
   "source": [
    "# Extracting relevant features\n",
    "combined['ip_bytes_sec'] = combined['ip_bytes'] / combined['ip_duration']\n",
    "combined['ip_packets_sec'] = combined['ip_packet'] / combined['ip_duration']\n",
    "combined['ip_bytes_packet'] = combined['ip_bytes'] / combined['ip_packet']\n",
    "combined['port_bytes_sec'] = combined['port_bytes'] / combined['ip_duration']\n",
    "combined['port_packet_sec'] = combined['port_packet'] / combined['ip_duration']\n",
    "combined['port_byte_packet'] = combined['port_bytes'] / combined['port_packet']\n",
    "combined['port_flow_count_sec'] = combined['port_flow_count'] / combined['ip_duration']\n",
    "combined['table_matched_lookup'] = combined['table_matched_count'] / combined['table_lookup_count']\n",
    "combined['table_active_lookup'] = combined['table_active_count'] / combined['table_lookup_count']\n",
    "combined['port_rx_packets_sec'] = combined['port_rx_packets'] / combined['port_duration_sec']\n",
    "combined['port_tx_packets_sec'] = combined['port_tx_packets'] / combined['port_duration_sec']\n",
    "combined['port_rx_bytes_sec'] = combined['port_rx_bytes'] / combined['port_duration_sec']\n",
    "combined['port_tx_bytes_sec'] = combined['port_tx_bytes'] / combined['port_duration_sec']"
   ]
  },
  {
   "cell_type": "code",
   "execution_count": 7,
   "id": "1d3017d7-5124-490d-afbd-7faebdf4c02d",
   "metadata": {
    "tags": []
   },
   "outputs": [
    {
     "data": {
      "text/html": [
       "<div>\n",
       "<style scoped>\n",
       "    .dataframe tbody tr th:only-of-type {\n",
       "        vertical-align: middle;\n",
       "    }\n",
       "\n",
       "    .dataframe tbody tr th {\n",
       "        vertical-align: top;\n",
       "    }\n",
       "\n",
       "    .dataframe thead th {\n",
       "        text-align: right;\n",
       "    }\n",
       "</style>\n",
       "<table border=\"1\" class=\"dataframe\">\n",
       "  <thead>\n",
       "    <tr style=\"text-align: right;\">\n",
       "      <th></th>\n",
       "      <th>ip_bytes_sec</th>\n",
       "      <th>ip_packets_sec</th>\n",
       "      <th>ip_bytes_packet</th>\n",
       "      <th>port_bytes_sec</th>\n",
       "      <th>port_packet_sec</th>\n",
       "      <th>port_byte_packet</th>\n",
       "      <th>port_flow_count_sec</th>\n",
       "      <th>table_matched_lookup</th>\n",
       "      <th>table_active_lookup</th>\n",
       "      <th>port_rx_packets_sec</th>\n",
       "      <th>port_tx_packets_sec</th>\n",
       "      <th>port_rx_bytes_sec</th>\n",
       "      <th>port_tx_bytes_sec</th>\n",
       "    </tr>\n",
       "  </thead>\n",
       "  <tbody>\n",
       "    <tr>\n",
       "      <th>count</th>\n",
       "      <td>5.053000e+04</td>\n",
       "      <td>5.053000e+04</td>\n",
       "      <td>49849.000000</td>\n",
       "      <td>5.057300e+04</td>\n",
       "      <td>5.057300e+04</td>\n",
       "      <td>50573.000000</td>\n",
       "      <td>5.057300e+04</td>\n",
       "      <td>50573.000000</td>\n",
       "      <td>50573.000000</td>\n",
       "      <td>50573.000000</td>\n",
       "      <td>50573.000000</td>\n",
       "      <td>5.057300e+04</td>\n",
       "      <td>5.057300e+04</td>\n",
       "    </tr>\n",
       "    <tr>\n",
       "      <th>mean</th>\n",
       "      <td>inf</td>\n",
       "      <td>inf</td>\n",
       "      <td>494.915613</td>\n",
       "      <td>inf</td>\n",
       "      <td>inf</td>\n",
       "      <td>539.605586</td>\n",
       "      <td>inf</td>\n",
       "      <td>0.999999</td>\n",
       "      <td>0.000615</td>\n",
       "      <td>334.377167</td>\n",
       "      <td>334.484294</td>\n",
       "      <td>1.095320e+05</td>\n",
       "      <td>1.067289e+05</td>\n",
       "    </tr>\n",
       "    <tr>\n",
       "      <th>std</th>\n",
       "      <td>NaN</td>\n",
       "      <td>NaN</td>\n",
       "      <td>944.887709</td>\n",
       "      <td>NaN</td>\n",
       "      <td>NaN</td>\n",
       "      <td>668.153399</td>\n",
       "      <td>NaN</td>\n",
       "      <td>0.000079</td>\n",
       "      <td>0.003125</td>\n",
       "      <td>628.565251</td>\n",
       "      <td>630.734287</td>\n",
       "      <td>2.295222e+05</td>\n",
       "      <td>2.314072e+05</td>\n",
       "    </tr>\n",
       "    <tr>\n",
       "      <th>min</th>\n",
       "      <td>0.000000e+00</td>\n",
       "      <td>0.000000e+00</td>\n",
       "      <td>42.000000</td>\n",
       "      <td>1.814542e+01</td>\n",
       "      <td>2.145422e-01</td>\n",
       "      <td>42.003799</td>\n",
       "      <td>2.153625e-03</td>\n",
       "      <td>0.987500</td>\n",
       "      <td>0.000003</td>\n",
       "      <td>0.047170</td>\n",
       "      <td>0.059514</td>\n",
       "      <td>2.842767e+00</td>\n",
       "      <td>6.446359e+00</td>\n",
       "    </tr>\n",
       "    <tr>\n",
       "      <th>25%</th>\n",
       "      <td>6.125000e+00</td>\n",
       "      <td>1.150877e-01</td>\n",
       "      <td>42.000000</td>\n",
       "      <td>1.402297e+04</td>\n",
       "      <td>1.016242e+02</td>\n",
       "      <td>46.575499</td>\n",
       "      <td>1.624130e-02</td>\n",
       "      <td>1.000000</td>\n",
       "      <td>0.000012</td>\n",
       "      <td>0.480519</td>\n",
       "      <td>0.967742</td>\n",
       "      <td>3.607407e+01</td>\n",
       "      <td>9.316327e+01</td>\n",
       "    </tr>\n",
       "    <tr>\n",
       "      <th>50%</th>\n",
       "      <td>9.973598e+02</td>\n",
       "      <td>1.187286e+01</td>\n",
       "      <td>54.000000</td>\n",
       "      <td>9.327414e+04</td>\n",
       "      <td>5.600522e+02</td>\n",
       "      <td>55.617732</td>\n",
       "      <td>2.508961e-02</td>\n",
       "      <td>1.000000</td>\n",
       "      <td>0.000043</td>\n",
       "      <td>37.783163</td>\n",
       "      <td>34.684932</td>\n",
       "      <td>2.146387e+03</td>\n",
       "      <td>6.597053e+03</td>\n",
       "    </tr>\n",
       "    <tr>\n",
       "      <th>75%</th>\n",
       "      <td>6.754816e+04</td>\n",
       "      <td>3.140652e+02</td>\n",
       "      <td>154.194175</td>\n",
       "      <td>4.107108e+05</td>\n",
       "      <td>1.437216e+03</td>\n",
       "      <td>1065.198882</td>\n",
       "      <td>4.895105e-02</td>\n",
       "      <td>1.000000</td>\n",
       "      <td>0.000284</td>\n",
       "      <td>294.468368</td>\n",
       "      <td>287.739033</td>\n",
       "      <td>1.045497e+05</td>\n",
       "      <td>1.000966e+05</td>\n",
       "    </tr>\n",
       "    <tr>\n",
       "      <th>max</th>\n",
       "      <td>inf</td>\n",
       "      <td>inf</td>\n",
       "      <td>6221.172685</td>\n",
       "      <td>inf</td>\n",
       "      <td>inf</td>\n",
       "      <td>3174.864845</td>\n",
       "      <td>inf</td>\n",
       "      <td>1.000000</td>\n",
       "      <td>0.093333</td>\n",
       "      <td>3050.359127</td>\n",
       "      <td>3049.918651</td>\n",
       "      <td>1.135476e+06</td>\n",
       "      <td>1.135706e+06</td>\n",
       "    </tr>\n",
       "  </tbody>\n",
       "</table>\n",
       "</div>"
      ],
      "text/plain": [
       "       ip_bytes_sec  ip_packets_sec  ip_bytes_packet  port_bytes_sec  \\\n",
       "count  5.053000e+04    5.053000e+04     49849.000000    5.057300e+04   \n",
       "mean            inf             inf       494.915613             inf   \n",
       "std             NaN             NaN       944.887709             NaN   \n",
       "min    0.000000e+00    0.000000e+00        42.000000    1.814542e+01   \n",
       "25%    6.125000e+00    1.150877e-01        42.000000    1.402297e+04   \n",
       "50%    9.973598e+02    1.187286e+01        54.000000    9.327414e+04   \n",
       "75%    6.754816e+04    3.140652e+02       154.194175    4.107108e+05   \n",
       "max             inf             inf      6221.172685             inf   \n",
       "\n",
       "       port_packet_sec  port_byte_packet  port_flow_count_sec  \\\n",
       "count     5.057300e+04      50573.000000         5.057300e+04   \n",
       "mean               inf        539.605586                  inf   \n",
       "std                NaN        668.153399                  NaN   \n",
       "min       2.145422e-01         42.003799         2.153625e-03   \n",
       "25%       1.016242e+02         46.575499         1.624130e-02   \n",
       "50%       5.600522e+02         55.617732         2.508961e-02   \n",
       "75%       1.437216e+03       1065.198882         4.895105e-02   \n",
       "max                inf       3174.864845                  inf   \n",
       "\n",
       "       table_matched_lookup  table_active_lookup  port_rx_packets_sec  \\\n",
       "count          50573.000000         50573.000000         50573.000000   \n",
       "mean               0.999999             0.000615           334.377167   \n",
       "std                0.000079             0.003125           628.565251   \n",
       "min                0.987500             0.000003             0.047170   \n",
       "25%                1.000000             0.000012             0.480519   \n",
       "50%                1.000000             0.000043            37.783163   \n",
       "75%                1.000000             0.000284           294.468368   \n",
       "max                1.000000             0.093333          3050.359127   \n",
       "\n",
       "       port_tx_packets_sec  port_rx_bytes_sec  port_tx_bytes_sec  \n",
       "count         50573.000000       5.057300e+04       5.057300e+04  \n",
       "mean            334.484294       1.095320e+05       1.067289e+05  \n",
       "std             630.734287       2.295222e+05       2.314072e+05  \n",
       "min               0.059514       2.842767e+00       6.446359e+00  \n",
       "25%               0.967742       3.607407e+01       9.316327e+01  \n",
       "50%              34.684932       2.146387e+03       6.597053e+03  \n",
       "75%             287.739033       1.045497e+05       1.000966e+05  \n",
       "max            3049.918651       1.135476e+06       1.135706e+06  "
      ]
     },
     "execution_count": 7,
     "metadata": {},
     "output_type": "execute_result"
    }
   ],
   "source": [
    "# Removing identifying features\n",
    "features = combined[\n",
    "    [\n",
    "        'ip_bytes_sec',\n",
    "        'ip_packets_sec',\n",
    "        'ip_bytes_packet',\n",
    "        'port_bytes_sec',\n",
    "        'port_packet_sec',\n",
    "        'port_byte_packet',\n",
    "        'port_flow_count_sec',\n",
    "        'table_matched_lookup',\n",
    "        'table_active_lookup',\n",
    "        'port_rx_packets_sec',\n",
    "        'port_tx_packets_sec',\n",
    "        'port_rx_bytes_sec',\n",
    "        'port_tx_bytes_sec',\n",
    "        'type'\n",
    "    ]\n",
    "].copy()\n",
    "features.describe()"
   ]
  },
  {
   "cell_type": "code",
   "execution_count": 8,
   "id": "c180cddc-0297-4c8b-88d3-67ef8fca8939",
   "metadata": {
    "tags": []
   },
   "outputs": [
    {
     "data": {
      "text/html": [
       "<div>\n",
       "<style scoped>\n",
       "    .dataframe tbody tr th:only-of-type {\n",
       "        vertical-align: middle;\n",
       "    }\n",
       "\n",
       "    .dataframe tbody tr th {\n",
       "        vertical-align: top;\n",
       "    }\n",
       "\n",
       "    .dataframe thead th {\n",
       "        text-align: right;\n",
       "    }\n",
       "</style>\n",
       "<table border=\"1\" class=\"dataframe\">\n",
       "  <thead>\n",
       "    <tr style=\"text-align: right;\">\n",
       "      <th></th>\n",
       "      <th>ip_bytes_sec</th>\n",
       "      <th>ip_packets_sec</th>\n",
       "      <th>ip_bytes_packet</th>\n",
       "      <th>port_bytes_sec</th>\n",
       "      <th>port_packet_sec</th>\n",
       "      <th>port_byte_packet</th>\n",
       "      <th>port_flow_count_sec</th>\n",
       "      <th>table_matched_lookup</th>\n",
       "      <th>table_active_lookup</th>\n",
       "      <th>port_rx_packets_sec</th>\n",
       "      <th>port_tx_packets_sec</th>\n",
       "      <th>port_rx_bytes_sec</th>\n",
       "      <th>port_tx_bytes_sec</th>\n",
       "    </tr>\n",
       "  </thead>\n",
       "  <tbody>\n",
       "    <tr>\n",
       "      <th>count</th>\n",
       "      <td>4.980000e+04</td>\n",
       "      <td>49800.000000</td>\n",
       "      <td>49800.000000</td>\n",
       "      <td>4.980000e+04</td>\n",
       "      <td>49800.000000</td>\n",
       "      <td>49800.000000</td>\n",
       "      <td>49800.000000</td>\n",
       "      <td>49800.000000</td>\n",
       "      <td>49800.000000</td>\n",
       "      <td>49800.000000</td>\n",
       "      <td>49800.000000</td>\n",
       "      <td>4.980000e+04</td>\n",
       "      <td>4.980000e+04</td>\n",
       "    </tr>\n",
       "    <tr>\n",
       "      <th>mean</th>\n",
       "      <td>9.367181e+04</td>\n",
       "      <td>236.131310</td>\n",
       "      <td>494.886636</td>\n",
       "      <td>2.819283e+05</td>\n",
       "      <td>907.439541</td>\n",
       "      <td>542.432774</td>\n",
       "      <td>0.066142</td>\n",
       "      <td>1.000000</td>\n",
       "      <td>0.000566</td>\n",
       "      <td>339.410090</td>\n",
       "      <td>335.604130</td>\n",
       "      <td>1.111855e+05</td>\n",
       "      <td>1.067977e+05</td>\n",
       "    </tr>\n",
       "    <tr>\n",
       "      <th>std</th>\n",
       "      <td>2.351507e+05</td>\n",
       "      <td>415.716971</td>\n",
       "      <td>945.110971</td>\n",
       "      <td>4.512961e+05</td>\n",
       "      <td>1786.114418</td>\n",
       "      <td>670.550416</td>\n",
       "      <td>0.254826</td>\n",
       "      <td>0.000003</td>\n",
       "      <td>0.002720</td>\n",
       "      <td>632.046705</td>\n",
       "      <td>634.771152</td>\n",
       "      <td>2.308873e+05</td>\n",
       "      <td>2.324713e+05</td>\n",
       "    </tr>\n",
       "    <tr>\n",
       "      <th>min</th>\n",
       "      <td>2.359551e-01</td>\n",
       "      <td>0.005618</td>\n",
       "      <td>42.000000</td>\n",
       "      <td>1.814542e+01</td>\n",
       "      <td>0.214542</td>\n",
       "      <td>42.003799</td>\n",
       "      <td>0.002154</td>\n",
       "      <td>0.999696</td>\n",
       "      <td>0.000003</td>\n",
       "      <td>0.047170</td>\n",
       "      <td>0.059514</td>\n",
       "      <td>2.842767e+00</td>\n",
       "      <td>6.446359e+00</td>\n",
       "    </tr>\n",
       "    <tr>\n",
       "      <th>25%</th>\n",
       "      <td>6.786446e+00</td>\n",
       "      <td>0.143802</td>\n",
       "      <td>42.000000</td>\n",
       "      <td>1.399984e+04</td>\n",
       "      <td>101.198653</td>\n",
       "      <td>46.581597</td>\n",
       "      <td>0.016166</td>\n",
       "      <td>1.000000</td>\n",
       "      <td>0.000012</td>\n",
       "      <td>0.541667</td>\n",
       "      <td>0.904255</td>\n",
       "      <td>4.356643e+01</td>\n",
       "      <td>8.499010e+01</td>\n",
       "    </tr>\n",
       "    <tr>\n",
       "      <th>50%</th>\n",
       "      <td>1.096707e+03</td>\n",
       "      <td>12.144878</td>\n",
       "      <td>54.000000</td>\n",
       "      <td>9.285399e+04</td>\n",
       "      <td>548.652665</td>\n",
       "      <td>55.620882</td>\n",
       "      <td>0.024735</td>\n",
       "      <td>1.000000</td>\n",
       "      <td>0.000042</td>\n",
       "      <td>38.743503</td>\n",
       "      <td>33.900826</td>\n",
       "      <td>2.216779e+03</td>\n",
       "      <td>6.349408e+03</td>\n",
       "    </tr>\n",
       "    <tr>\n",
       "      <th>75%</th>\n",
       "      <td>6.782540e+04</td>\n",
       "      <td>314.449498</td>\n",
       "      <td>154.183838</td>\n",
       "      <td>4.101893e+05</td>\n",
       "      <td>1427.216086</td>\n",
       "      <td>1065.232359</td>\n",
       "      <td>0.046980</td>\n",
       "      <td>1.000000</td>\n",
       "      <td>0.000273</td>\n",
       "      <td>297.171163</td>\n",
       "      <td>286.930287</td>\n",
       "      <td>1.077352e+05</td>\n",
       "      <td>9.828474e+04</td>\n",
       "    </tr>\n",
       "    <tr>\n",
       "      <th>max</th>\n",
       "      <td>1.607856e+06</td>\n",
       "      <td>3167.000000</td>\n",
       "      <td>6221.172685</td>\n",
       "      <td>2.818552e+07</td>\n",
       "      <td>181944.000000</td>\n",
       "      <td>3174.864845</td>\n",
       "      <td>9.000000</td>\n",
       "      <td>1.000000</td>\n",
       "      <td>0.093333</td>\n",
       "      <td>3050.359127</td>\n",
       "      <td>3049.918651</td>\n",
       "      <td>1.135476e+06</td>\n",
       "      <td>1.135706e+06</td>\n",
       "    </tr>\n",
       "  </tbody>\n",
       "</table>\n",
       "</div>"
      ],
      "text/plain": [
       "       ip_bytes_sec  ip_packets_sec  ip_bytes_packet  port_bytes_sec  \\\n",
       "count  4.980000e+04    49800.000000     49800.000000    4.980000e+04   \n",
       "mean   9.367181e+04      236.131310       494.886636    2.819283e+05   \n",
       "std    2.351507e+05      415.716971       945.110971    4.512961e+05   \n",
       "min    2.359551e-01        0.005618        42.000000    1.814542e+01   \n",
       "25%    6.786446e+00        0.143802        42.000000    1.399984e+04   \n",
       "50%    1.096707e+03       12.144878        54.000000    9.285399e+04   \n",
       "75%    6.782540e+04      314.449498       154.183838    4.101893e+05   \n",
       "max    1.607856e+06     3167.000000      6221.172685    2.818552e+07   \n",
       "\n",
       "       port_packet_sec  port_byte_packet  port_flow_count_sec  \\\n",
       "count     49800.000000      49800.000000         49800.000000   \n",
       "mean        907.439541        542.432774             0.066142   \n",
       "std        1786.114418        670.550416             0.254826   \n",
       "min           0.214542         42.003799             0.002154   \n",
       "25%         101.198653         46.581597             0.016166   \n",
       "50%         548.652665         55.620882             0.024735   \n",
       "75%        1427.216086       1065.232359             0.046980   \n",
       "max      181944.000000       3174.864845             9.000000   \n",
       "\n",
       "       table_matched_lookup  table_active_lookup  port_rx_packets_sec  \\\n",
       "count          49800.000000         49800.000000         49800.000000   \n",
       "mean               1.000000             0.000566           339.410090   \n",
       "std                0.000003             0.002720           632.046705   \n",
       "min                0.999696             0.000003             0.047170   \n",
       "25%                1.000000             0.000012             0.541667   \n",
       "50%                1.000000             0.000042            38.743503   \n",
       "75%                1.000000             0.000273           297.171163   \n",
       "max                1.000000             0.093333          3050.359127   \n",
       "\n",
       "       port_tx_packets_sec  port_rx_bytes_sec  port_tx_bytes_sec  \n",
       "count         49800.000000       4.980000e+04       4.980000e+04  \n",
       "mean            335.604130       1.111855e+05       1.067977e+05  \n",
       "std             634.771152       2.308873e+05       2.324713e+05  \n",
       "min               0.059514       2.842767e+00       6.446359e+00  \n",
       "25%               0.904255       4.356643e+01       8.499010e+01  \n",
       "50%              33.900826       2.216779e+03       6.349408e+03  \n",
       "75%             286.930287       1.077352e+05       9.828474e+04  \n",
       "max            3049.918651       1.135476e+06       1.135706e+06  "
      ]
     },
     "execution_count": 8,
     "metadata": {},
     "output_type": "execute_result"
    }
   ],
   "source": [
    "# Removing inf and NaN values\n",
    "features.replace([np.inf, -np.inf], np.nan, inplace=True)\n",
    "features.dropna(inplace=True)\n",
    "features.describe()"
   ]
  },
  {
   "cell_type": "code",
   "execution_count": 9,
   "id": "644a2596-d625-408c-989d-e1008d27e158",
   "metadata": {
    "tags": []
   },
   "outputs": [
    {
     "data": {
      "text/plain": [
       "type\n",
       "attack    40356\n",
       "normal     9444\n",
       "Name: count, dtype: int64"
      ]
     },
     "execution_count": 9,
     "metadata": {},
     "output_type": "execute_result"
    }
   ],
   "source": [
    "# Total attack and normal data\n",
    "features['type'].value_counts()"
   ]
  },
  {
   "cell_type": "markdown",
   "id": "804824db-e666-4fb2-a157-4b26deca2c23",
   "metadata": {
    "tags": []
   },
   "source": [
    "### Train, Test splitting"
   ]
  },
  {
   "cell_type": "code",
   "execution_count": 10,
   "id": "6f3175df-34ab-422a-b3d6-87509a1451b1",
   "metadata": {
    "tags": []
   },
   "outputs": [],
   "source": [
    "# Splitting into dependent and independent variables\n",
    "X = features.loc[ : , features.columns != 'type']\n",
    "y = features['type']\n",
    "\n",
    "# Splitting into train and test sets\n",
    "X_train, X_test, y_train, y_test = train_test_split(X, y, test_size=0.1, random_state=42, stratify=y)"
   ]
  },
  {
   "cell_type": "markdown",
   "id": "403c9750-027b-4f20-8819-0080d0bb4d0c",
   "metadata": {
    "tags": []
   },
   "source": [
    "### Data scaling"
   ]
  },
  {
   "cell_type": "code",
   "execution_count": 11,
   "id": "4ccd9997-ef6e-4949-959c-69f520e28c77",
   "metadata": {
    "tags": []
   },
   "outputs": [],
   "source": [
    "# Scaling data using RS\n",
    "X_train = pd.DataFrame(RobustScaler().fit_transform(X_train), columns=[\n",
    "    'ip_bytes_sec',\n",
    "    'ip_packets_sec',\n",
    "    'ip_bytes_packet',\n",
    "    'port_bytes_sec',\n",
    "    'port_packet_sec',\n",
    "    'port_byte_packet',\n",
    "    'port_flow_count_sec',\n",
    "    'table_matched_lookup',\n",
    "    'table_active_lookup',\n",
    "    'port_rx_packets_sec',\n",
    "    'port_tx_packets_sec',\n",
    "    'port_rx_bytes_sec',\n",
    "    'port_tx_bytes_sec',\n",
    "])\n",
    "\n",
    "X_test = pd.DataFrame(RobustScaler().fit_transform(X_test), columns=[\n",
    "    'ip_bytes_sec',\n",
    "    'ip_packets_sec',\n",
    "    'ip_bytes_packet',\n",
    "    'port_bytes_sec',\n",
    "    'port_packet_sec',\n",
    "    'port_byte_packet',\n",
    "    'port_flow_count_sec',\n",
    "    'table_matched_lookup',\n",
    "    'table_active_lookup',\n",
    "    'port_rx_packets_sec',\n",
    "    'port_tx_packets_sec',\n",
    "    'port_rx_bytes_sec',\n",
    "    'port_tx_bytes_sec',\n",
    "])"
   ]
  },
  {
   "cell_type": "markdown",
   "id": "a87e9943-96ae-4200-afe3-1ceaccc7f36d",
   "metadata": {
    "tags": []
   },
   "source": [
    "### Model training and accuracy (No PCA)"
   ]
  },
  {
   "cell_type": "code",
   "execution_count": 12,
   "id": "a6648555-eff0-4e30-a86f-958f0f62eff8",
   "metadata": {
    "tags": []
   },
   "outputs": [
    {
     "data": {
      "text/html": [
       "<style>#sk-container-id-1 {color: black;}#sk-container-id-1 pre{padding: 0;}#sk-container-id-1 div.sk-toggleable {background-color: white;}#sk-container-id-1 label.sk-toggleable__label {cursor: pointer;display: block;width: 100%;margin-bottom: 0;padding: 0.3em;box-sizing: border-box;text-align: center;}#sk-container-id-1 label.sk-toggleable__label-arrow:before {content: \"▸\";float: left;margin-right: 0.25em;color: #696969;}#sk-container-id-1 label.sk-toggleable__label-arrow:hover:before {color: black;}#sk-container-id-1 div.sk-estimator:hover label.sk-toggleable__label-arrow:before {color: black;}#sk-container-id-1 div.sk-toggleable__content {max-height: 0;max-width: 0;overflow: hidden;text-align: left;background-color: #f0f8ff;}#sk-container-id-1 div.sk-toggleable__content pre {margin: 0.2em;color: black;border-radius: 0.25em;background-color: #f0f8ff;}#sk-container-id-1 input.sk-toggleable__control:checked~div.sk-toggleable__content {max-height: 200px;max-width: 100%;overflow: auto;}#sk-container-id-1 input.sk-toggleable__control:checked~label.sk-toggleable__label-arrow:before {content: \"▾\";}#sk-container-id-1 div.sk-estimator input.sk-toggleable__control:checked~label.sk-toggleable__label {background-color: #d4ebff;}#sk-container-id-1 div.sk-label input.sk-toggleable__control:checked~label.sk-toggleable__label {background-color: #d4ebff;}#sk-container-id-1 input.sk-hidden--visually {border: 0;clip: rect(1px 1px 1px 1px);clip: rect(1px, 1px, 1px, 1px);height: 1px;margin: -1px;overflow: hidden;padding: 0;position: absolute;width: 1px;}#sk-container-id-1 div.sk-estimator {font-family: monospace;background-color: #f0f8ff;border: 1px dotted black;border-radius: 0.25em;box-sizing: border-box;margin-bottom: 0.5em;}#sk-container-id-1 div.sk-estimator:hover {background-color: #d4ebff;}#sk-container-id-1 div.sk-parallel-item::after {content: \"\";width: 100%;border-bottom: 1px solid gray;flex-grow: 1;}#sk-container-id-1 div.sk-label:hover label.sk-toggleable__label {background-color: #d4ebff;}#sk-container-id-1 div.sk-serial::before {content: \"\";position: absolute;border-left: 1px solid gray;box-sizing: border-box;top: 0;bottom: 0;left: 50%;z-index: 0;}#sk-container-id-1 div.sk-serial {display: flex;flex-direction: column;align-items: center;background-color: white;padding-right: 0.2em;padding-left: 0.2em;position: relative;}#sk-container-id-1 div.sk-item {position: relative;z-index: 1;}#sk-container-id-1 div.sk-parallel {display: flex;align-items: stretch;justify-content: center;background-color: white;position: relative;}#sk-container-id-1 div.sk-item::before, #sk-container-id-1 div.sk-parallel-item::before {content: \"\";position: absolute;border-left: 1px solid gray;box-sizing: border-box;top: 0;bottom: 0;left: 50%;z-index: -1;}#sk-container-id-1 div.sk-parallel-item {display: flex;flex-direction: column;z-index: 1;position: relative;background-color: white;}#sk-container-id-1 div.sk-parallel-item:first-child::after {align-self: flex-end;width: 50%;}#sk-container-id-1 div.sk-parallel-item:last-child::after {align-self: flex-start;width: 50%;}#sk-container-id-1 div.sk-parallel-item:only-child::after {width: 0;}#sk-container-id-1 div.sk-dashed-wrapped {border: 1px dashed gray;margin: 0 0.4em 0.5em 0.4em;box-sizing: border-box;padding-bottom: 0.4em;background-color: white;}#sk-container-id-1 div.sk-label label {font-family: monospace;font-weight: bold;display: inline-block;line-height: 1.2em;}#sk-container-id-1 div.sk-label-container {text-align: center;}#sk-container-id-1 div.sk-container {/* jupyter's `normalize.less` sets `[hidden] { display: none; }` but bootstrap.min.css set `[hidden] { display: none !important; }` so we also need the `!important` here to be able to override the default hidden behavior on the sphinx rendered scikit-learn.org. See: https://github.com/scikit-learn/scikit-learn/issues/21755 */display: inline-block !important;position: relative;}#sk-container-id-1 div.sk-text-repr-fallback {display: none;}</style><div id=\"sk-container-id-1\" class=\"sk-top-container\"><div class=\"sk-text-repr-fallback\"><pre>RandomForestClassifier()</pre><b>In a Jupyter environment, please rerun this cell to show the HTML representation or trust the notebook. <br />On GitHub, the HTML representation is unable to render, please try loading this page with nbviewer.org.</b></div><div class=\"sk-container\" hidden><div class=\"sk-item\"><div class=\"sk-estimator sk-toggleable\"><input class=\"sk-toggleable__control sk-hidden--visually\" id=\"sk-estimator-id-1\" type=\"checkbox\" checked><label for=\"sk-estimator-id-1\" class=\"sk-toggleable__label sk-toggleable__label-arrow\">RandomForestClassifier</label><div class=\"sk-toggleable__content\"><pre>RandomForestClassifier()</pre></div></div></div></div></div>"
      ],
      "text/plain": [
       "RandomForestClassifier()"
      ]
     },
     "execution_count": 12,
     "metadata": {},
     "output_type": "execute_result"
    }
   ],
   "source": [
    "# Fitting model to data\n",
    "rf = RandomForestClassifier()\n",
    "rf.fit(X_train, y_train)"
   ]
  },
  {
   "cell_type": "code",
   "execution_count": 13,
   "id": "6b0450ba-c30e-4595-a1d0-327a2cbc8725",
   "metadata": {
    "tags": []
   },
   "outputs": [
    {
     "name": "stdout",
     "output_type": "stream",
     "text": [
      "Accuracy: 0.8821285140562249\n"
     ]
    }
   ],
   "source": [
    "y_pred = rf.predict(X_test)\n",
    "accuracy = accuracy_score(y_test, y_pred)\n",
    "print(\"Accuracy:\", accuracy)"
   ]
  },
  {
   "cell_type": "markdown",
   "id": "48a627ef-755b-495f-b91d-cc45ea126195",
   "metadata": {
    "tags": []
   },
   "source": [
    "### Model training and accuracy (PCA applied)"
   ]
  },
  {
   "cell_type": "code",
   "execution_count": 14,
   "id": "0bbb47b9-b302-4af7-9d54-2d9d393ca4cf",
   "metadata": {
    "tags": []
   },
   "outputs": [],
   "source": [
    "from sklearn.decomposition import PCA\n",
    "\n",
    "pca = PCA(n_components=5)\n",
    "X_train2 = pd.DataFrame(pca.fit_transform(X_train))"
   ]
  },
  {
   "cell_type": "code",
   "execution_count": 15,
   "id": "25ff2725-7bcc-4bc0-8b66-9f358718268f",
   "metadata": {
    "tags": []
   },
   "outputs": [
    {
     "data": {
      "text/html": [
       "<style>#sk-container-id-2 {color: black;}#sk-container-id-2 pre{padding: 0;}#sk-container-id-2 div.sk-toggleable {background-color: white;}#sk-container-id-2 label.sk-toggleable__label {cursor: pointer;display: block;width: 100%;margin-bottom: 0;padding: 0.3em;box-sizing: border-box;text-align: center;}#sk-container-id-2 label.sk-toggleable__label-arrow:before {content: \"▸\";float: left;margin-right: 0.25em;color: #696969;}#sk-container-id-2 label.sk-toggleable__label-arrow:hover:before {color: black;}#sk-container-id-2 div.sk-estimator:hover label.sk-toggleable__label-arrow:before {color: black;}#sk-container-id-2 div.sk-toggleable__content {max-height: 0;max-width: 0;overflow: hidden;text-align: left;background-color: #f0f8ff;}#sk-container-id-2 div.sk-toggleable__content pre {margin: 0.2em;color: black;border-radius: 0.25em;background-color: #f0f8ff;}#sk-container-id-2 input.sk-toggleable__control:checked~div.sk-toggleable__content {max-height: 200px;max-width: 100%;overflow: auto;}#sk-container-id-2 input.sk-toggleable__control:checked~label.sk-toggleable__label-arrow:before {content: \"▾\";}#sk-container-id-2 div.sk-estimator input.sk-toggleable__control:checked~label.sk-toggleable__label {background-color: #d4ebff;}#sk-container-id-2 div.sk-label input.sk-toggleable__control:checked~label.sk-toggleable__label {background-color: #d4ebff;}#sk-container-id-2 input.sk-hidden--visually {border: 0;clip: rect(1px 1px 1px 1px);clip: rect(1px, 1px, 1px, 1px);height: 1px;margin: -1px;overflow: hidden;padding: 0;position: absolute;width: 1px;}#sk-container-id-2 div.sk-estimator {font-family: monospace;background-color: #f0f8ff;border: 1px dotted black;border-radius: 0.25em;box-sizing: border-box;margin-bottom: 0.5em;}#sk-container-id-2 div.sk-estimator:hover {background-color: #d4ebff;}#sk-container-id-2 div.sk-parallel-item::after {content: \"\";width: 100%;border-bottom: 1px solid gray;flex-grow: 1;}#sk-container-id-2 div.sk-label:hover label.sk-toggleable__label {background-color: #d4ebff;}#sk-container-id-2 div.sk-serial::before {content: \"\";position: absolute;border-left: 1px solid gray;box-sizing: border-box;top: 0;bottom: 0;left: 50%;z-index: 0;}#sk-container-id-2 div.sk-serial {display: flex;flex-direction: column;align-items: center;background-color: white;padding-right: 0.2em;padding-left: 0.2em;position: relative;}#sk-container-id-2 div.sk-item {position: relative;z-index: 1;}#sk-container-id-2 div.sk-parallel {display: flex;align-items: stretch;justify-content: center;background-color: white;position: relative;}#sk-container-id-2 div.sk-item::before, #sk-container-id-2 div.sk-parallel-item::before {content: \"\";position: absolute;border-left: 1px solid gray;box-sizing: border-box;top: 0;bottom: 0;left: 50%;z-index: -1;}#sk-container-id-2 div.sk-parallel-item {display: flex;flex-direction: column;z-index: 1;position: relative;background-color: white;}#sk-container-id-2 div.sk-parallel-item:first-child::after {align-self: flex-end;width: 50%;}#sk-container-id-2 div.sk-parallel-item:last-child::after {align-self: flex-start;width: 50%;}#sk-container-id-2 div.sk-parallel-item:only-child::after {width: 0;}#sk-container-id-2 div.sk-dashed-wrapped {border: 1px dashed gray;margin: 0 0.4em 0.5em 0.4em;box-sizing: border-box;padding-bottom: 0.4em;background-color: white;}#sk-container-id-2 div.sk-label label {font-family: monospace;font-weight: bold;display: inline-block;line-height: 1.2em;}#sk-container-id-2 div.sk-label-container {text-align: center;}#sk-container-id-2 div.sk-container {/* jupyter's `normalize.less` sets `[hidden] { display: none; }` but bootstrap.min.css set `[hidden] { display: none !important; }` so we also need the `!important` here to be able to override the default hidden behavior on the sphinx rendered scikit-learn.org. See: https://github.com/scikit-learn/scikit-learn/issues/21755 */display: inline-block !important;position: relative;}#sk-container-id-2 div.sk-text-repr-fallback {display: none;}</style><div id=\"sk-container-id-2\" class=\"sk-top-container\"><div class=\"sk-text-repr-fallback\"><pre>RandomForestClassifier()</pre><b>In a Jupyter environment, please rerun this cell to show the HTML representation or trust the notebook. <br />On GitHub, the HTML representation is unable to render, please try loading this page with nbviewer.org.</b></div><div class=\"sk-container\" hidden><div class=\"sk-item\"><div class=\"sk-estimator sk-toggleable\"><input class=\"sk-toggleable__control sk-hidden--visually\" id=\"sk-estimator-id-2\" type=\"checkbox\" checked><label for=\"sk-estimator-id-2\" class=\"sk-toggleable__label sk-toggleable__label-arrow\">RandomForestClassifier</label><div class=\"sk-toggleable__content\"><pre>RandomForestClassifier()</pre></div></div></div></div></div>"
      ],
      "text/plain": [
       "RandomForestClassifier()"
      ]
     },
     "execution_count": 15,
     "metadata": {},
     "output_type": "execute_result"
    }
   ],
   "source": [
    "rf = RandomForestClassifier()\n",
    "rf.fit(X_train2, y_train)"
   ]
  },
  {
   "cell_type": "code",
   "execution_count": 16,
   "id": "b28c1894-940c-4ea5-9ab6-d8e7b5145714",
   "metadata": {
    "tags": []
   },
   "outputs": [
    {
     "name": "stdout",
     "output_type": "stream",
     "text": [
      "Accuracy: 0.9987951807228915\n"
     ]
    }
   ],
   "source": [
    "X_test2 = pd.DataFrame(pca.transform(X_test))\n",
    "y_pred = rf.predict(X_test2)\n",
    "accuracy = accuracy_score(y_test, y_pred)\n",
    "print(\"Accuracy:\", accuracy)"
   ]
  },
  {
   "cell_type": "markdown",
   "id": "292f7208-b9f1-4fbf-807d-c9d5a9dbfd9a",
   "metadata": {},
   "source": [
    "### Exporting model"
   ]
  },
  {
   "cell_type": "code",
   "execution_count": 22,
   "id": "454c488a-9c8f-40c5-8bf4-bb36d65eb92d",
   "metadata": {
    "tags": []
   },
   "outputs": [],
   "source": [
    "filename = 'test_model.sav'\n",
    "pickle.dump(rf, open(filename, 'wb'), protocol=2)"
   ]
  },
  {
   "cell_type": "code",
   "execution_count": 23,
   "id": "9d1c412d-6ab3-4bc6-b026-7032fe118bf1",
   "metadata": {
    "tags": []
   },
   "outputs": [],
   "source": [
    "filename = 'test_pca.sav'\n",
    "pickle.dump(pca, open(filename, 'wb'), protocol=2)"
   ]
  }
 ],
 "metadata": {
  "kernelspec": {
   "display_name": "Python 3 (ipykernel)",
   "language": "python",
   "name": "python3"
  },
  "language_info": {
   "codemirror_mode": {
    "name": "ipython",
    "version": 3
   },
   "file_extension": ".py",
   "mimetype": "text/x-python",
   "name": "python",
   "nbconvert_exporter": "python",
   "pygments_lexer": "ipython3",
   "version": "3.11.4"
  }
 },
 "nbformat": 4,
 "nbformat_minor": 5
}
